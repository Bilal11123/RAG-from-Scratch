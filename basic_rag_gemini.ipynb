{
 "cells": [
  {
   "cell_type": "code",
   "execution_count": null,
   "id": "df179edc",
   "metadata": {},
   "outputs": [],
   "source": [
    "! pip install langchain_community tiktoken langchain-google-genai langchainhub chromadb langchain"
   ]
  },
  {
   "cell_type": "code",
   "execution_count": null,
   "id": "61f69637",
   "metadata": {},
   "outputs": [],
   "source": [
    "import os\n",
    "os.environ['LANGCHAIN_TRACING_V2'] = 'true'\n",
    "os.environ['LANGCHAIN_ENDPOINT'] = 'https://api.smith.langchain.com'\n",
    "os.environ['LANGCHAIN_API_KEY'] = '<your-api-key>'"
   ]
  },
  {
   "cell_type": "code",
   "execution_count": null,
   "id": "03495c9a",
   "metadata": {},
   "outputs": [],
   "source": [
    "import os\n",
    "from langchain_google_genai import GoogleGenerativeAIEmbeddings\n",
    "import google.generativeai as genai\n",
    "\n",
    "#### CONFIG ####\n",
    "os.environ[\"GOOGLE_API_KEY\"] = \"<your-gemini-api-key>\"\n",
    "\n",
    "# Setup Gemini API\n",
    "genai.configure(api_key=os.environ[\"GOOGLE_API_KEY\"])"
   ]
  },
  {
   "cell_type": "code",
   "execution_count": null,
   "id": "a2c244e6",
   "metadata": {},
   "outputs": [],
   "source": [
    "import bs4\n",
    "from langchain.text_splitter import RecursiveCharacterTextSplitter\n",
    "from langchain_community.document_loaders import WebBaseLoader, PyPDFLoader\n",
    "from langchain_community.vectorstores import Chroma\n",
    "from langchain_core.runnables import RunnablePassthrough\n",
    "from langchain.prompts import PromptTemplate\n",
    "from langchain_core.output_parsers import StrOutputParser"
   ]
  },
  {
   "cell_type": "code",
   "execution_count": null,
   "id": "fd61e179",
   "metadata": {},
   "outputs": [],
   "source": [
    "# Persistent Chroma directory\n",
    "PERSIST_DIR = \"./chroma_db\"\n",
    "\n",
    "#### EMBEDDINGS (Gemini) ####\n",
    "embedding_fn = GoogleGenerativeAIEmbeddings(model=\"models/embedding-001\")\n",
    "\n",
    "#### LOAD OR CREATE VECTORSTORE ####\n",
    "vectorstore = Chroma(\n",
    "    persist_directory=PERSIST_DIR,\n",
    "    embedding_function=embedding_fn\n",
    ")\n",
    "\n",
    "retriever = vectorstore.as_retriever()"
   ]
  },
  {
   "cell_type": "code",
   "execution_count": null,
   "id": "846eb8d2",
   "metadata": {},
   "outputs": [],
   "source": [
    "#### FUNCTIONS ####\n",
    "def add_pdf(path: str):\n",
    "    \"\"\"Add PDF from local disk to vectorstore\"\"\"\n",
    "    loader = PyPDFLoader(path)\n",
    "    docs = loader.load()\n",
    "    text_splitter = RecursiveCharacterTextSplitter(chunk_size=1000, chunk_overlap=200)\n",
    "    splits = text_splitter.split_documents(docs)\n",
    "    vectorstore.add_documents(splits)\n",
    "    vectorstore.persist()\n",
    "    print(f\"✅ Added {len(splits)} chunks from PDF {path}\")\n",
    "\n",
    "def add_url(url: str):\n",
    "    \"\"\"Add web page to vectorstore\"\"\"\n",
    "    loader = WebBaseLoader(\n",
    "        web_paths=(url,),\n",
    "        bs_kwargs=dict(\n",
    "            parse_only=bs4.SoupStrainer(\n",
    "                class_=(\"post-content\", \"post-title\", \"post-header\")\n",
    "            )\n",
    "        ),\n",
    "    )\n",
    "    docs = loader.load()\n",
    "    text_splitter = RecursiveCharacterTextSplitter(chunk_size=1000, chunk_overlap=200)\n",
    "    splits = text_splitter.split_documents(docs)\n",
    "    vectorstore.add_documents(splits)\n",
    "    vectorstore.persist()\n",
    "    print(f\"✅ Added {len(splits)} chunks from URL {url}\")\n",
    "\n",
    "#### PROMPT ####\n",
    "prompt = PromptTemplate(\n",
    "    template=(\n",
    "        \"You are a helpful assistant. Use the context below to answer the question.\\n\\n\"\n",
    "        \"Context:\\n{context}\\n\\n\"\n",
    "        \"Question: {question}\\n\\n\"\n",
    "        \"Answer:\"\n",
    "    ),\n",
    "    input_variables=[\"context\", \"question\"],\n",
    ")\n",
    "\n",
    "def format_docs(docs):\n",
    "    return \"\\n\\n\".join(doc.page_content for doc in docs)\n",
    "\n",
    "#### GEMINI ANSWER FUNCTION ####\n",
    "def ask_gemini(question: str):\n",
    "    context = format_docs(retriever.get_relevant_documents(question))\n",
    "    filled_prompt = prompt.format(context=context, question=question)\n",
    "\n",
    "    model = genai.GenerativeModel(\"gemini-1.5-flash\")\n",
    "    response = model.generate_content(filled_prompt)\n",
    "    return response.text\n",
    "\n",
    "#### USAGE ####\n",
    "# Add docs (only once per source)\n",
    "# add_pdf(\"myfile.pdf\")\n",
    "# add_url(\"https://lilianweng.github.io/posts/2023-06-23-agent/\")\n",
    "\n",
    "# Ask question\n",
    "answer = ask_gemini(\"What is Task Decomposition?\")\n",
    "print(\"\\n🔹 Answer:\\n\", answer)"
   ]
  }
 ],
 "metadata": {
  "kernelspec": {
   "display_name": "Python 3",
   "language": "python",
   "name": "python3"
  },
  "language_info": {
   "name": "python",
   "version": "3.13.2"
  }
 },
 "nbformat": 4,
 "nbformat_minor": 5
}
