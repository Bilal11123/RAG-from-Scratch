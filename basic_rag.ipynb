{
 "cells": [
  {
   "cell_type": "markdown",
   "id": "00c432d9",
   "metadata": {},
   "source": [
    "## Setting Up Environment"
   ]
  },
  {
   "cell_type": "code",
   "execution_count": null,
   "id": "f1367fa8",
   "metadata": {},
   "outputs": [],
   "source": [
    "! pip install langchain_community tiktoken langchain-openai langchainhub chromadb langchain"
   ]
  },
  {
   "cell_type": "code",
   "execution_count": null,
   "id": "41ad2fc8",
   "metadata": {},
   "outputs": [],
   "source": [
    "import os\n",
    "os.environ['LANGCHAIN_TRACING_V2'] = 'true'\n",
    "os.environ['LANGCHAIN_ENDPOINT'] = 'https://api.smith.langchain.com'\n",
    "os.environ['LANGCHAIN_API_KEY'] = '<your-api-key>'"
   ]
  },
  {
   "cell_type": "code",
   "execution_count": null,
   "id": "ccb04e1e",
   "metadata": {},
   "outputs": [],
   "source": [
    "os.environ['OPENAI_API_KEY'] = '<your-api-key>'"
   ]
  },
  {
   "cell_type": "code",
   "execution_count": null,
   "id": "db372922",
   "metadata": {},
   "outputs": [],
   "source": [
    "import bs4\n",
    "import os\n",
    "from langchain.text_splitter import RecursiveCharacterTextSplitter\n",
    "from langchain_community.document_loaders import WebBaseLoader, PyPDFLoader\n",
    "from langchain_community.vectorstores import Chroma\n",
    "from langchain_core.output_parsers import StrOutputParser\n",
    "from langchain_core.runnables import RunnablePassthrough\n",
    "from langchain_openai import ChatOpenAI, OpenAIEmbeddings\n",
    "from langchain.prompts import PromptTemplate"
   ]
  },
  {
   "cell_type": "markdown",
   "id": "a605c904",
   "metadata": {},
   "source": [
    "## Document Loader"
   ]
  },
  {
   "cell_type": "code",
   "execution_count": null,
   "id": "d6ababc7",
   "metadata": {},
   "outputs": [],
   "source": [
    "#### PERSISTENCE ####\n",
    "PERSIST_DIR = \"./chroma_db\"\n",
    "embedding_fn = OpenAIEmbeddings()\n",
    "\n",
    "#### LOAD OR CREATE VECTORSTORE ####\n",
    "if os.path.exists(PERSIST_DIR):\n",
    "    print(\"🔹 Loading existing Chroma DB...\")\n",
    "    vectorstore = Chroma(persist_directory=PERSIST_DIR, embedding_function=embedding_fn)\n",
    "else:\n",
    "    print(\"🔹 Creating empty Chroma DB...\")\n",
    "    vectorstore = Chroma(persist_directory=PERSIST_DIR, embedding_function=embedding_fn)\n",
    "\n",
    "retriever = vectorstore.as_retriever()"
   ]
  },
  {
   "cell_type": "code",
   "execution_count": null,
   "id": "e2dd6d16",
   "metadata": {},
   "outputs": [],
   "source": [
    "#### FUNCTION: Add New Web Docs ####\n",
    "def add_new_documents_from_web(urls):\n",
    "    loader = WebBaseLoader(\n",
    "        web_paths=urls,\n",
    "        bs_kwargs=dict(\n",
    "            parse_only=bs4.SoupStrainer(\n",
    "                class_=(\"post-content\", \"post-title\", \"post-header\")\n",
    "            )\n",
    "        ),\n",
    "    )\n",
    "    docs = loader.load()\n",
    "    \n",
    "    text_splitter = RecursiveCharacterTextSplitter(chunk_size=1000, chunk_overlap=200)\n",
    "    splits = text_splitter.split_documents(docs)\n",
    "\n",
    "    # Add metadata \"source=web\"\n",
    "    for doc in splits:\n",
    "        doc.metadata[\"source\"] = \"web\"\n",
    "\n",
    "    vectorstore.add_documents(splits)\n",
    "    vectorstore.persist()\n",
    "    print(f\"✅ Added {len(splits)} new chunks from {urls}\")"
   ]
  },
  {
   "cell_type": "code",
   "execution_count": null,
   "id": "49b228ea",
   "metadata": {},
   "outputs": [],
   "source": [
    "#### FUNCTION: Add New PDFs ####\n",
    "def add_new_documents_from_pdf(file_paths):\n",
    "    all_splits = []\n",
    "    for file_path in file_paths:\n",
    "        loader = PyPDFLoader(file_path)\n",
    "        docs = loader.load()\n",
    "        \n",
    "        text_splitter = RecursiveCharacterTextSplitter(chunk_size=1000, chunk_overlap=200)\n",
    "        splits = text_splitter.split_documents(docs)\n",
    "\n",
    "        # Add metadata \"source=pdf\"\n",
    "        for doc in splits:\n",
    "            doc.metadata[\"source\"] = \"pdf\"\n",
    "            doc.metadata[\"filename\"] = os.path.basename(file_path)\n",
    "\n",
    "        all_splits.extend(splits)\n",
    "    \n",
    "    vectorstore.add_documents(all_splits)\n",
    "    vectorstore.persist()\n",
    "    print(f\"✅ Added {len(all_splits)} new chunks from {len(file_paths)} PDF(s)\")\n"
   ]
  },
  {
   "cell_type": "markdown",
   "id": "da57e34d",
   "metadata": {},
   "source": [
    "## Prompt Generation"
   ]
  },
  {
   "cell_type": "code",
   "execution_count": null,
   "id": "e138e9cc",
   "metadata": {},
   "outputs": [],
   "source": [
    "#### RETRIEVAL + GENERATION ####\n",
    "prompt = PromptTemplate(\n",
    "    template=(\n",
    "        \"You are a helpful AI assistant. Use the provided context to answer the question.\\n\\n\"\n",
    "        \"Context:\\n{context}\\n\\n\"\n",
    "        \"Question: {question}\\n\\n\"\n",
    "        \"Answer:\"\n",
    "    ),\n",
    "    input_variables=[\"context\", \"question\"],\n",
    ")\n",
    "\n",
    "llm = ChatOpenAI(model_name=\"gpt-3.5-turbo\", temperature=0)\n",
    "\n",
    "def format_docs(docs):\n",
    "    return \"\\n\\n\".join(doc.page_content for doc in docs)\n",
    "\n",
    "# Default retriever (search all sources)\n",
    "rag_chain = (\n",
    "    {\"context\": retriever | format_docs, \"question\": RunnablePassthrough()}\n",
    "    | prompt\n",
    "    | llm\n",
    "    | StrOutputParser()\n",
    ")\n"
   ]
  },
  {
   "cell_type": "code",
   "execution_count": null,
   "id": "76212ac3",
   "metadata": {},
   "outputs": [],
   "source": [
    "#### FILTERED RETRIEVERS ####\n",
    "pdf_retriever = vectorstore.as_retriever(search_kwargs={\"filter\": {\"source\": \"pdf\"}})\n",
    "web_retriever = vectorstore.as_retriever(search_kwargs={\"filter\": {\"source\": \"web\"}})\n",
    "\n",
    "def ask_question(question, source=\"all\"):\n",
    "    if source == \"pdf\":\n",
    "        chain = (\n",
    "            {\"context\": pdf_retriever | format_docs, \"question\": RunnablePassthrough()}\n",
    "            | prompt\n",
    "            | llm\n",
    "            | StrOutputParser()\n",
    "        )\n",
    "    elif source == \"web\":\n",
    "        chain = (\n",
    "            {\"context\": web_retriever | format_docs, \"question\": RunnablePassthrough()}\n",
    "            | prompt\n",
    "            | llm\n",
    "            | StrOutputParser()\n",
    "        )\n",
    "    else:\n",
    "        chain = rag_chain\n",
    "    \n",
    "    return chain.invoke(question)"
   ]
  },
  {
   "cell_type": "markdown",
   "id": "9ee09383",
   "metadata": {},
   "source": [
    "## Usage"
   ]
  },
  {
   "cell_type": "code",
   "execution_count": null,
   "id": "820113ae",
   "metadata": {},
   "outputs": [],
   "source": [
    "#### USAGE ####\n",
    "\n",
    "# Example: Add PDFs\n",
    "# add_new_documents_from_pdf([\"./docs/AI_research.pdf\"])\n",
    "\n",
    "# Example: Add a web page\n",
    "# add_new_documents_from_web([\"https://lilianweng.github.io/posts/2023-03-15-prompt-engineering/\"])\n",
    "\n",
    "# Ask across ALL sources\n",
    "print(\"\\n🔹 All Docs:\\n\", ask_question(\"Summarize everything about Task Decomposition\"))\n",
    "\n",
    "# Ask ONLY inside PDFs\n",
    "print(\"\\n🔹 PDF Only:\\n\", ask_question(\"What does the AI research paper say about reinforcement learning?\", source=\"pdf\"))\n",
    "\n",
    "# Ask ONLY inside Web Docs\n",
    "print(\"\\n🔹 Web Only:\\n\", ask_question(\"What does Lilian Weng say about prompt engineering?\", source=\"web\"))"
   ]
  }
 ],
 "metadata": {
  "kernelspec": {
   "display_name": "Python 3",
   "language": "python",
   "name": "python3"
  },
  "language_info": {
   "name": "python",
   "version": "3.13.2"
  }
 },
 "nbformat": 4,
 "nbformat_minor": 5
}
